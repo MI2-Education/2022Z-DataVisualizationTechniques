{
 "cells": [
  {
   "cell_type": "code",
   "execution_count": 137,
   "id": "fbc53487-c7d8-4a50-919d-cad20ff2ba63",
   "metadata": {},
   "outputs": [
    {
     "ename": "ModuleNotFoundError",
     "evalue": "No module named 'Image'",
     "output_type": "error",
     "traceback": [
      "\u001b[1;31m---------------------------------------------------------------------------\u001b[0m",
      "\u001b[1;31mModuleNotFoundError\u001b[0m                       Traceback (most recent call last)",
      "\u001b[1;32m<ipython-input-137-cc8628ed0d41>\u001b[0m in \u001b[0;36m<module>\u001b[1;34m\u001b[0m\n\u001b[1;32m----> 1\u001b[1;33m \u001b[1;32mimport\u001b[0m \u001b[0mnumpy\u001b[0m \u001b[1;32mas\u001b[0m \u001b[0mnp\u001b[0m\u001b[1;33m,\u001b[0m \u001b[0mpandas\u001b[0m \u001b[1;32mas\u001b[0m \u001b[0mpd\u001b[0m\u001b[1;33m,\u001b[0m \u001b[0mmatplotlib\u001b[0m\u001b[1;33m.\u001b[0m\u001b[0mpyplot\u001b[0m \u001b[1;32mas\u001b[0m \u001b[0mplt\u001b[0m\u001b[1;33m,\u001b[0m \u001b[0mseaborn\u001b[0m \u001b[1;32mas\u001b[0m \u001b[0msns\u001b[0m\u001b[1;33m,\u001b[0m \u001b[0mImage\u001b[0m\u001b[1;33m\u001b[0m\u001b[1;33m\u001b[0m\u001b[0m\n\u001b[0m",
      "\u001b[1;31mModuleNotFoundError\u001b[0m: No module named 'Image'"
     ]
    }
   ],
   "source": [
    "import numpy as np, pandas as pd, matplotlib.pyplot as plt, seaborn as sns"
   ]
  },
  {
   "cell_type": "markdown",
   "id": "22163706-1aaa-4f75-8e62-9ed055686e1f",
   "metadata": {},
   "source": [
    "## 1a"
   ]
  },
  {
   "cell_type": "code",
   "execution_count": 33,
   "id": "e409181c-2db6-4532-8f27-543d832c7d22",
   "metadata": {},
   "outputs": [],
   "source": [
    "df = pd.read_csv(\"https://raw.githubusercontent.com/R-Ladies-Warsaw/PoweR/master/Cz%C4%99%C5%9B%C4%87%202%20-%20Formatowanie%20danych/Python/data/vgsales.csv\",\n",
    "                delimiter = \",\").dropna().reset_index(drop = True)"
   ]
  },
  {
   "cell_type": "code",
   "execution_count": 35,
   "id": "1ef10290-e196-4d4f-abde-12178a748ff6",
   "metadata": {},
   "outputs": [
    {
     "data": {
      "text/html": [
       "<div>\n",
       "<style scoped>\n",
       "    .dataframe tbody tr th:only-of-type {\n",
       "        vertical-align: middle;\n",
       "    }\n",
       "\n",
       "    .dataframe tbody tr th {\n",
       "        vertical-align: top;\n",
       "    }\n",
       "\n",
       "    .dataframe thead th {\n",
       "        text-align: right;\n",
       "    }\n",
       "</style>\n",
       "<table border=\"1\" class=\"dataframe\">\n",
       "  <thead>\n",
       "    <tr style=\"text-align: right;\">\n",
       "      <th></th>\n",
       "      <th>Rank</th>\n",
       "      <th>Name</th>\n",
       "      <th>Platform</th>\n",
       "      <th>Year</th>\n",
       "      <th>Genre</th>\n",
       "      <th>Publisher</th>\n",
       "      <th>NA_Sales</th>\n",
       "      <th>EU_Sales</th>\n",
       "      <th>JP_Sales</th>\n",
       "      <th>Other_Sales</th>\n",
       "      <th>Global_Sales</th>\n",
       "    </tr>\n",
       "  </thead>\n",
       "  <tbody>\n",
       "    <tr>\n",
       "      <th>4199</th>\n",
       "      <td>4263</td>\n",
       "      <td>Mario &amp; Sonic at the Rio 2016 Olympic Games</td>\n",
       "      <td>3DS</td>\n",
       "      <td>2016.0</td>\n",
       "      <td>Action</td>\n",
       "      <td>Nintendo</td>\n",
       "      <td>0.04</td>\n",
       "      <td>0.16</td>\n",
       "      <td>0.24</td>\n",
       "      <td>0.01</td>\n",
       "      <td>0.46</td>\n",
       "    </tr>\n",
       "    <tr>\n",
       "      <th>6477</th>\n",
       "      <td>6590</td>\n",
       "      <td>Mario &amp; Sonic at the Rio 2016 Olympic Games</td>\n",
       "      <td>WiiU</td>\n",
       "      <td>2016.0</td>\n",
       "      <td>Action</td>\n",
       "      <td>Nintendo</td>\n",
       "      <td>0.03</td>\n",
       "      <td>0.11</td>\n",
       "      <td>0.10</td>\n",
       "      <td>0.01</td>\n",
       "      <td>0.26</td>\n",
       "    </tr>\n",
       "    <tr>\n",
       "      <th>14703</th>\n",
       "      <td>14971</td>\n",
       "      <td>Teddy Together</td>\n",
       "      <td>3DS</td>\n",
       "      <td>2016.0</td>\n",
       "      <td>Simulation</td>\n",
       "      <td>Nintendo</td>\n",
       "      <td>0.00</td>\n",
       "      <td>0.02</td>\n",
       "      <td>0.00</td>\n",
       "      <td>0.00</td>\n",
       "      <td>0.02</td>\n",
       "    </tr>\n",
       "  </tbody>\n",
       "</table>\n",
       "</div>"
      ],
      "text/plain": [
       "        Rank                                         Name Platform    Year  \\\n",
       "4199    4263  Mario & Sonic at the Rio 2016 Olympic Games      3DS  2016.0   \n",
       "6477    6590  Mario & Sonic at the Rio 2016 Olympic Games     WiiU  2016.0   \n",
       "14703  14971                               Teddy Together      3DS  2016.0   \n",
       "\n",
       "            Genre Publisher  NA_Sales  EU_Sales  JP_Sales  Other_Sales  \\\n",
       "4199       Action  Nintendo      0.04      0.16      0.24         0.01   \n",
       "6477       Action  Nintendo      0.03      0.11      0.10         0.01   \n",
       "14703  Simulation  Nintendo      0.00      0.02      0.00         0.00   \n",
       "\n",
       "       Global_Sales  \n",
       "4199           0.46  \n",
       "6477           0.26  \n",
       "14703          0.02  "
      ]
     },
     "execution_count": 35,
     "metadata": {},
     "output_type": "execute_result"
    }
   ],
   "source": [
    "df.loc[(df.Year > 2015) & (df.Publisher == \"Nintendo\") & (df.EU_Sales > df.NA_Sales)]"
   ]
  },
  {
   "cell_type": "markdown",
   "id": "812958c6-6fa4-4017-8faa-aa7c0c24884e",
   "metadata": {},
   "source": [
    "## 1b"
   ]
  },
  {
   "cell_type": "code",
   "execution_count": 42,
   "id": "83f755e2-3982-47ac-a941-8cb58362abaa",
   "metadata": {},
   "outputs": [
    {
     "data": {
      "text/plain": [
       "'Action'"
      ]
     },
     "execution_count": 42,
     "metadata": {},
     "output_type": "execute_result"
    }
   ],
   "source": [
    "df.loc[df.Year == 2010].groupby(\"Genre\").Global_Sales.sum().idxmax()"
   ]
  },
  {
   "cell_type": "markdown",
   "id": "9698fe78-10b4-499a-b39a-146c1c755a61",
   "metadata": {},
   "source": [
    "## 1c"
   ]
  },
  {
   "cell_type": "code",
   "execution_count": 57,
   "id": "06cd97e9-9279-4efe-aaf1-fe5cbb0a5496",
   "metadata": {},
   "outputs": [
    {
     "data": {
      "text/html": [
       "<div>\n",
       "<style scoped>\n",
       "    .dataframe tbody tr th:only-of-type {\n",
       "        vertical-align: middle;\n",
       "    }\n",
       "\n",
       "    .dataframe tbody tr th {\n",
       "        vertical-align: top;\n",
       "    }\n",
       "\n",
       "    .dataframe thead th {\n",
       "        text-align: right;\n",
       "    }\n",
       "</style>\n",
       "<table border=\"1\" class=\"dataframe\">\n",
       "  <thead>\n",
       "    <tr style=\"text-align: right;\">\n",
       "      <th></th>\n",
       "      <th>Typ Gry</th>\n",
       "      <th>Srednia sprzedaz w Japonii</th>\n",
       "    </tr>\n",
       "  </thead>\n",
       "  <tbody>\n",
       "    <tr>\n",
       "      <th>0</th>\n",
       "      <td>Strategy</td>\n",
       "      <td>0.073284</td>\n",
       "    </tr>\n",
       "    <tr>\n",
       "      <th>1</th>\n",
       "      <td>Puzzle</td>\n",
       "      <td>0.099439</td>\n",
       "    </tr>\n",
       "    <tr>\n",
       "      <th>2</th>\n",
       "      <td>Role-Playing</td>\n",
       "      <td>0.238293</td>\n",
       "    </tr>\n",
       "  </tbody>\n",
       "</table>\n",
       "</div>"
      ],
      "text/plain": [
       "        Typ Gry  Srednia sprzedaz w Japonii\n",
       "0      Strategy                    0.073284\n",
       "1        Puzzle                    0.099439\n",
       "2  Role-Playing                    0.238293"
      ]
     },
     "execution_count": 57,
     "metadata": {},
     "output_type": "execute_result"
    }
   ],
   "source": [
    "df.groupby(\"Genre\")[[\"EU_Sales\",\"JP_Sales\"]].mean().reset_index().loc[lambda df: df[\"EU_Sales\"] < df[\"JP_Sales\"]].sort_values(\"JP_Sales\")[[\"Genre\",\"JP_Sales\"]].rename(columns={\"Genre\":\"Typ Gry\",\"JP_Sales\":\"Srednia sprzedaz w Japonii\"}).reset_index(drop=True)"
   ]
  },
  {
   "cell_type": "markdown",
   "id": "09ad157a-f993-457c-a6e6-f6a6e3be2195",
   "metadata": {},
   "source": [
    "## 2"
   ]
  },
  {
   "cell_type": "markdown",
   "id": "55ad4e6e-cbe8-4318-8671-a7719fdb909a",
   "metadata": {},
   "source": [
    "### Oryginalny wykres przedstawiał się tak:\n",
    "\n",
    "![title](original_plot.png)"
   ]
  },
  {
   "cell_type": "markdown",
   "id": "e66a135d-1c05-4f3c-878a-de4336915573",
   "metadata": {},
   "source": [
    "\n",
    "\n",
    "Źródło: https://www.youtube.com/watch?v=5CpZwxAgp4Y\n",
    "\n",
    "Wykres wyświetlony jest Od 31:55 do 32:05.\n",
    "\n"
   ]
  },
  {
   "cell_type": "markdown",
   "id": "7dfc5df0-77aa-40fe-b241-8e7a53a9b66c",
   "metadata": {},
   "source": [
    "### Wykres stworzony jako HW2 za pomocą ggplot2:\n",
    "\n",
    "![title](My_Plot_HW2.png)\n",
    "\n",
    "Link: https://github.com/alexmal01/2022Z-DataVisualizationTechniques/blob/main/homeworks/hw2/MalinowskiAleksander/HW2_Raport.pdf"
   ]
  },
  {
   "cell_type": "markdown",
   "id": "b0ea7343-09e8-4046-871a-fcf1ec4e526f",
   "metadata": {},
   "source": [
    "### Tworzenie nowego wykresu"
   ]
  },
  {
   "cell_type": "code",
   "execution_count": 59,
   "id": "7da8677f-e07f-4ddc-af7b-59ba353adf26",
   "metadata": {},
   "outputs": [
    {
     "data": {
      "text/html": [
       "<div>\n",
       "<style scoped>\n",
       "    .dataframe tbody tr th:only-of-type {\n",
       "        vertical-align: middle;\n",
       "    }\n",
       "\n",
       "    .dataframe tbody tr th {\n",
       "        vertical-align: top;\n",
       "    }\n",
       "\n",
       "    .dataframe thead th {\n",
       "        text-align: right;\n",
       "    }\n",
       "</style>\n",
       "<table border=\"1\" class=\"dataframe\">\n",
       "  <thead>\n",
       "    <tr style=\"text-align: right;\">\n",
       "      <th></th>\n",
       "      <th>Opis</th>\n",
       "      <th>val</th>\n",
       "    </tr>\n",
       "  </thead>\n",
       "  <tbody>\n",
       "    <tr>\n",
       "      <th>0</th>\n",
       "      <td>Generacja indywidualnego ciepła zeroemisyjnego</td>\n",
       "      <td>19.7</td>\n",
       "    </tr>\n",
       "    <tr>\n",
       "      <th>1</th>\n",
       "      <td>Generacja sieciowego ciepła zeroemisyjnego</td>\n",
       "      <td>3.8</td>\n",
       "    </tr>\n",
       "    <tr>\n",
       "      <th>2</th>\n",
       "      <td>Gospodarka odpadami</td>\n",
       "      <td>14.1</td>\n",
       "    </tr>\n",
       "    <tr>\n",
       "      <th>3</th>\n",
       "      <td>Infrastruktura drogowa</td>\n",
       "      <td>471.3</td>\n",
       "    </tr>\n",
       "    <tr>\n",
       "      <th>4</th>\n",
       "      <td>Infrastruktura wodno - kanalizacyjna</td>\n",
       "      <td>211.4</td>\n",
       "    </tr>\n",
       "    <tr>\n",
       "      <th>5</th>\n",
       "      <td>Odnawialne źródła energii</td>\n",
       "      <td>15.2</td>\n",
       "    </tr>\n",
       "    <tr>\n",
       "      <th>6</th>\n",
       "      <td>Efektywność energetyczna</td>\n",
       "      <td>32.0</td>\n",
       "    </tr>\n",
       "    <tr>\n",
       "      <th>7</th>\n",
       "      <td>Infrastruktura elektroenergetyczna i oświetlen...</td>\n",
       "      <td>27.1</td>\n",
       "    </tr>\n",
       "    <tr>\n",
       "      <th>8</th>\n",
       "      <td>Infrastruktura sportowa</td>\n",
       "      <td>44.2</td>\n",
       "    </tr>\n",
       "    <tr>\n",
       "      <th>9</th>\n",
       "      <td>Infrastruktura turystyczna</td>\n",
       "      <td>57.9</td>\n",
       "    </tr>\n",
       "    <tr>\n",
       "      <th>10</th>\n",
       "      <td>Rewitalizacja obszarów miejskich</td>\n",
       "      <td>45.0</td>\n",
       "    </tr>\n",
       "    <tr>\n",
       "      <th>11</th>\n",
       "      <td>Infrastruktura edukacyjna</td>\n",
       "      <td>50.0</td>\n",
       "    </tr>\n",
       "    <tr>\n",
       "      <th>12</th>\n",
       "      <td>Infrastruktura społeczna</td>\n",
       "      <td>9.3</td>\n",
       "    </tr>\n",
       "    <tr>\n",
       "      <th>13</th>\n",
       "      <td>Kanalizacja deszczowa</td>\n",
       "      <td>11.1</td>\n",
       "    </tr>\n",
       "  </tbody>\n",
       "</table>\n",
       "</div>"
      ],
      "text/plain": [
       "                                                 Opis    val\n",
       "0      Generacja indywidualnego ciepła zeroemisyjnego   19.7\n",
       "1          Generacja sieciowego ciepła zeroemisyjnego    3.8\n",
       "2                                 Gospodarka odpadami   14.1\n",
       "3                              Infrastruktura drogowa  471.3\n",
       "4                Infrastruktura wodno - kanalizacyjna  211.4\n",
       "5                           Odnawialne źródła energii   15.2\n",
       "6                            Efektywność energetyczna   32.0\n",
       "7   Infrastruktura elektroenergetyczna i oświetlen...   27.1\n",
       "8                             Infrastruktura sportowa   44.2\n",
       "9                          Infrastruktura turystyczna   57.9\n",
       "10                   Rewitalizacja obszarów miejskich   45.0\n",
       "11                          Infrastruktura edukacyjna   50.0\n",
       "12                           Infrastruktura społeczna    9.3\n",
       "13                              Kanalizacja deszczowa   11.1"
      ]
     },
     "execution_count": 59,
     "metadata": {},
     "output_type": "execute_result"
    }
   ],
   "source": [
    "df = pd.DataFrame({'Opis':[\"Generacja indywidualnego ciepła zeroemisyjnego\", \"Generacja sieciowego ciepła zeroemisyjnego\", \"Gospodarka odpadami\", \"Infrastruktura drogowa\", \"Infrastruktura wodno - kanalizacyjna\", \"Odnawialne źródła energii\", \"Efektywność energetyczna\", \"Infrastruktura elektroenergetyczna i oświetleniowa\", \"Infrastruktura sportowa\", \"Infrastruktura turystyczna\", \"Rewitalizacja obszarów miejskich\", \"Infrastruktura edukacyjna\", \"Infrastruktura społeczna\", \"Kanalizacja deszczowa\"],'val':[19.7, 3.8, 14.1, 471.3, 211.4, 15.2, 32.0, 27.1, 44.2, 57.9, 45.0, 50.0, 9.3, 11.1]})\n",
    "df"
   ]
  },
  {
   "cell_type": "code",
   "execution_count": 95,
   "id": "ea15df94-6396-469a-8b5b-5f14e15f17cf",
   "metadata": {},
   "outputs": [
    {
     "data": {
      "text/html": [
       "<div>\n",
       "<style scoped>\n",
       "    .dataframe tbody tr th:only-of-type {\n",
       "        vertical-align: middle;\n",
       "    }\n",
       "\n",
       "    .dataframe tbody tr th {\n",
       "        vertical-align: top;\n",
       "    }\n",
       "\n",
       "    .dataframe thead th {\n",
       "        text-align: right;\n",
       "    }\n",
       "</style>\n",
       "<table border=\"1\" class=\"dataframe\">\n",
       "  <thead>\n",
       "    <tr style=\"text-align: right;\">\n",
       "      <th></th>\n",
       "      <th>Opis</th>\n",
       "      <th>val</th>\n",
       "    </tr>\n",
       "  </thead>\n",
       "  <tbody>\n",
       "    <tr>\n",
       "      <th>0</th>\n",
       "      <td>Infrastruktura drogowa</td>\n",
       "      <td>471.3</td>\n",
       "    </tr>\n",
       "    <tr>\n",
       "      <th>1</th>\n",
       "      <td>Infrastruktura wodno - kanalizacyjna</td>\n",
       "      <td>211.4</td>\n",
       "    </tr>\n",
       "    <tr>\n",
       "      <th>2</th>\n",
       "      <td>Infrastruktura turystyczna</td>\n",
       "      <td>57.9</td>\n",
       "    </tr>\n",
       "    <tr>\n",
       "      <th>3</th>\n",
       "      <td>Infrastruktura edukacyjna</td>\n",
       "      <td>50.0</td>\n",
       "    </tr>\n",
       "    <tr>\n",
       "      <th>4</th>\n",
       "      <td>Rewitalizacja obszarów miejskich</td>\n",
       "      <td>45.0</td>\n",
       "    </tr>\n",
       "    <tr>\n",
       "      <th>5</th>\n",
       "      <td>Infrastruktura sportowa</td>\n",
       "      <td>44.2</td>\n",
       "    </tr>\n",
       "    <tr>\n",
       "      <th>6</th>\n",
       "      <td>Efektywność energetyczna</td>\n",
       "      <td>32.0</td>\n",
       "    </tr>\n",
       "    <tr>\n",
       "      <th>7</th>\n",
       "      <td>Infrastruktura elektroenergetyczna i oświetlen...</td>\n",
       "      <td>27.1</td>\n",
       "    </tr>\n",
       "    <tr>\n",
       "      <th>8</th>\n",
       "      <td>Generacja indywidualnego ciepła zeroemisyjnego</td>\n",
       "      <td>19.7</td>\n",
       "    </tr>\n",
       "    <tr>\n",
       "      <th>9</th>\n",
       "      <td>Odnawialne źródła energii</td>\n",
       "      <td>15.2</td>\n",
       "    </tr>\n",
       "    <tr>\n",
       "      <th>10</th>\n",
       "      <td>Gospodarka odpadami</td>\n",
       "      <td>14.1</td>\n",
       "    </tr>\n",
       "    <tr>\n",
       "      <th>11</th>\n",
       "      <td>Kanalizacja deszczowa</td>\n",
       "      <td>11.1</td>\n",
       "    </tr>\n",
       "    <tr>\n",
       "      <th>12</th>\n",
       "      <td>Infrastruktura społeczna</td>\n",
       "      <td>9.3</td>\n",
       "    </tr>\n",
       "    <tr>\n",
       "      <th>13</th>\n",
       "      <td>Generacja sieciowego ciepła zeroemisyjnego</td>\n",
       "      <td>3.8</td>\n",
       "    </tr>\n",
       "  </tbody>\n",
       "</table>\n",
       "</div>"
      ],
      "text/plain": [
       "                                                 Opis    val\n",
       "0                              Infrastruktura drogowa  471.3\n",
       "1                Infrastruktura wodno - kanalizacyjna  211.4\n",
       "2                          Infrastruktura turystyczna   57.9\n",
       "3                           Infrastruktura edukacyjna   50.0\n",
       "4                    Rewitalizacja obszarów miejskich   45.0\n",
       "5                             Infrastruktura sportowa   44.2\n",
       "6                            Efektywność energetyczna   32.0\n",
       "7   Infrastruktura elektroenergetyczna i oświetlen...   27.1\n",
       "8      Generacja indywidualnego ciepła zeroemisyjnego   19.7\n",
       "9                           Odnawialne źródła energii   15.2\n",
       "10                                Gospodarka odpadami   14.1\n",
       "11                              Kanalizacja deszczowa   11.1\n",
       "12                           Infrastruktura społeczna    9.3\n",
       "13         Generacja sieciowego ciepła zeroemisyjnego    3.8"
      ]
     },
     "execution_count": 95,
     "metadata": {},
     "output_type": "execute_result"
    }
   ],
   "source": [
    "df.sort_values('val',ascending=False, inplace = True)\n",
    "df.reset_index(drop = True, inplace = True)\n",
    "df"
   ]
  },
  {
   "cell_type": "code",
   "execution_count": 140,
   "id": "75f213d4-2fe2-4b6c-ae4b-e6d832002896",
   "metadata": {},
   "outputs": [
    {
     "data": {
      "image/png": "[encoded data removed]",
      "text/plain": [
       "<Figure size 792x432 with 1 Axes>"
      ]
     },
     "metadata": {},
     "output_type": "display_data"
    }
   ],
   "source": [
    "sns.set(rc = {'figure.figsize': (11,6)})\n",
    "custom_params = {\"axes.spines.right\": False, \"axes.spines.top\": False}\n",
    "sns.set_theme(style=\"whitegrid\", rc=custom_params)\n",
    "ax = sns.barplot(x = df.val, y = df.Opis, color=\"#AF0016\")\n",
    "plt.suptitle(\"Suma dofinansowania w podziale na obszary inwestycji dla woj. warmińsko - mazurskiego\",fontsize = 18)\n",
    "ax.set(xlabel = \"Kwota w milionach zł\", ylabel = \"Sektory\",title = \"Kwota dofinansowania dla woj. warmińsko - mazurskiego wynosi 1,012 mld\", xticks = [i for i in range(0,int(max(df.val)),25)])\n",
    "k = 0\n",
    "for p in ax.patches:\n",
    "    _x = p.get_x() + p.get_width() + 16\n",
    "    _y = p.get_y() + p.get_height() - 0.2\n",
    "    value = df.val[k]\n",
    "    k += 1\n",
    "    ax.text(_x, _y, value, ha=\"center\") \n",
    "plt.show()"
   ]
  },
  {
   "cell_type": "markdown",
   "id": "250c403e-7f3d-4cc7-aadd-e3ee29a87aa9",
   "metadata": {},
   "source": [
    "### Dlaczego ten wykres jest lepszy od R-owego"
   ]
  },
  {
   "cell_type": "markdown",
   "id": "85ba6035-6a5a-49be-acc1-141fd3c8291f",
   "metadata": {},
   "source": [
    "Moim zdaniem wykresy tworzone w Seabornie już domyślnie wyglądają bardzo dobrze, w przypadku tego konkretnego wykresu zdecydowałem się dodatkowo na parę zmian.\n",
    "\n",
    "Jedną z nich było usunięcie niepotrzebnych ramek i linii gridu, pozostawiłem tylko to, co niezbędne. Myślę, że wykres prezentuje się czytelniej i estetyczniej. Poza tym zrezygnowałem z \"przechylenia\" podpisów osi Y, ponieważ nie zwiększało ono w tym przypadku łatwości odczytania informacji."
   ]
  }
 ],
 "metadata": {
  "kernelspec": {
   "display_name": "Python 3",
   "language": "python",
   "name": "python3"
  },
  "language_info": {
   "codemirror_mode": {
    "name": "ipython",
    "version": 3
   },
   "file_extension": ".py",
   "mimetype": "text/x-python",
   "name": "python",
   "nbconvert_exporter": "python",
   "pygments_lexer": "ipython3",
   "version": "3.8.8"
  }
 },
 "nbformat": 4,
 "nbformat_minor": 5
}
