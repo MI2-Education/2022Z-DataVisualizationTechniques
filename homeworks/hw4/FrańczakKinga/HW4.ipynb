{
 "cells": [
  {
   "cell_type": "markdown",
   "metadata": {},
   "source": [
    "## Praca domowa 4"
   ]
  },
  {
   "cell_type": "markdown",
   "metadata": {},
   "source": [
    "#### Autor: Kinga Frańczak"
   ]
  },
  {
   "cell_type": "markdown",
   "metadata": {},
   "source": [
    "### Zadanie 1 (1.5 pkt)"
   ]
  },
  {
   "cell_type": "markdown",
   "metadata": {},
   "source": [
    "Używając funkcji z pakietu `numpy` oraz `pandas` odpowiedz na poniższe pytania dotyczące zbioru danych o grach."
   ]
  },
  {
   "cell_type": "markdown",
   "metadata": {},
   "source": [
    "a) Wybierz gry, które zostały wydane po 2015 roku przez Nintendo oraz ich sprzedaż w Ameryce była niższa niż w Europie.  \n",
    "\n",
    "b) Jak rodzaj gry zarobił najwięcej w roku 2010?\n",
    "\n",
    "c) Jakie typy gier sprzedają się średnio lepiej w Japonii niż w Europie? Jakie to typy gier i jaka jest ta wartość średnia. Wynikiem powinna być tabelka posortowana względem średnich. Nazwij kolumny `Typ Gry` i `Średnia sprzedaż w Japonii`.\n"
   ]
  },
  {
   "cell_type": "code",
   "execution_count": 1,
   "metadata": {},
   "outputs": [],
   "source": [
    "import pandas as pd\n",
    "\n",
    "df = pd.read_csv(\"https://raw.githubusercontent.com/R-Ladies-Warsaw/PoweR/master/Cz%C4%99%C5%9B%C4%87%202%20-%20Formatowanie%20danych/Python/data/vgsales.csv\",\n",
    "                delimiter = \",\").dropna().reset_index(drop = True)"
   ]
  },
  {
   "cell_type": "markdown",
   "metadata": {},
   "source": [
    "### 2a"
   ]
  },
  {
   "cell_type": "code",
   "execution_count": 2,
   "metadata": {},
   "outputs": [
    {
     "data": {
      "text/html": [
       "<div>\n",
       "<style scoped>\n",
       "    .dataframe tbody tr th:only-of-type {\n",
       "        vertical-align: middle;\n",
       "    }\n",
       "\n",
       "    .dataframe tbody tr th {\n",
       "        vertical-align: top;\n",
       "    }\n",
       "\n",
       "    .dataframe thead th {\n",
       "        text-align: right;\n",
       "    }\n",
       "</style>\n",
       "<table border=\"1\" class=\"dataframe\">\n",
       "  <thead>\n",
       "    <tr style=\"text-align: right;\">\n",
       "      <th></th>\n",
       "      <th>Name</th>\n",
       "      <th>Platform</th>\n",
       "      <th>Year</th>\n",
       "      <th>Genre</th>\n",
       "      <th>Publisher</th>\n",
       "      <th>NA_Sales</th>\n",
       "      <th>EU_Sales</th>\n",
       "      <th>JP_Sales</th>\n",
       "      <th>Other_Sales</th>\n",
       "      <th>Global_Sales</th>\n",
       "    </tr>\n",
       "  </thead>\n",
       "  <tbody>\n",
       "    <tr>\n",
       "      <th>0</th>\n",
       "      <td>Mario &amp; Sonic at the Rio 2016 Olympic Games</td>\n",
       "      <td>3DS</td>\n",
       "      <td>2016.0</td>\n",
       "      <td>Action</td>\n",
       "      <td>Nintendo</td>\n",
       "      <td>0.04</td>\n",
       "      <td>0.16</td>\n",
       "      <td>0.24</td>\n",
       "      <td>0.01</td>\n",
       "      <td>0.46</td>\n",
       "    </tr>\n",
       "    <tr>\n",
       "      <th>1</th>\n",
       "      <td>Mario &amp; Sonic at the Rio 2016 Olympic Games</td>\n",
       "      <td>WiiU</td>\n",
       "      <td>2016.0</td>\n",
       "      <td>Action</td>\n",
       "      <td>Nintendo</td>\n",
       "      <td>0.03</td>\n",
       "      <td>0.11</td>\n",
       "      <td>0.10</td>\n",
       "      <td>0.01</td>\n",
       "      <td>0.26</td>\n",
       "    </tr>\n",
       "    <tr>\n",
       "      <th>2</th>\n",
       "      <td>Teddy Together</td>\n",
       "      <td>3DS</td>\n",
       "      <td>2016.0</td>\n",
       "      <td>Simulation</td>\n",
       "      <td>Nintendo</td>\n",
       "      <td>0.00</td>\n",
       "      <td>0.02</td>\n",
       "      <td>0.00</td>\n",
       "      <td>0.00</td>\n",
       "      <td>0.02</td>\n",
       "    </tr>\n",
       "  </tbody>\n",
       "</table>\n",
       "</div>"
      ],
      "text/plain": [
       "                                          Name Platform    Year       Genre  \\\n",
       "0  Mario & Sonic at the Rio 2016 Olympic Games      3DS  2016.0      Action   \n",
       "1  Mario & Sonic at the Rio 2016 Olympic Games     WiiU  2016.0      Action   \n",
       "2                               Teddy Together      3DS  2016.0  Simulation   \n",
       "\n",
       "  Publisher  NA_Sales  EU_Sales  JP_Sales  Other_Sales  Global_Sales  \n",
       "0  Nintendo      0.04      0.16      0.24         0.01          0.46  \n",
       "1  Nintendo      0.03      0.11      0.10         0.01          0.26  \n",
       "2  Nintendo      0.00      0.02      0.00         0.00          0.02  "
      ]
     },
     "execution_count": 2,
     "metadata": {},
     "output_type": "execute_result"
    }
   ],
   "source": [
    "tmp = df.loc[df.Year > 2015].loc[df.NA_Sales < df.EU_Sales].loc[df.Publisher == 'Nintendo'].reset_index().drop('Rank', axis = 1).drop('index', axis = 1)\n",
    "tmp"
   ]
  },
  {
   "cell_type": "markdown",
   "metadata": {},
   "source": [
    "### 2b"
   ]
  },
  {
   "cell_type": "code",
   "execution_count": 3,
   "metadata": {},
   "outputs": [
    {
     "data": {
      "text/html": [
       "<div>\n",
       "<style scoped>\n",
       "    .dataframe tbody tr th:only-of-type {\n",
       "        vertical-align: middle;\n",
       "    }\n",
       "\n",
       "    .dataframe tbody tr th {\n",
       "        vertical-align: top;\n",
       "    }\n",
       "\n",
       "    .dataframe thead th {\n",
       "        text-align: right;\n",
       "    }\n",
       "</style>\n",
       "<table border=\"1\" class=\"dataframe\">\n",
       "  <thead>\n",
       "    <tr style=\"text-align: right;\">\n",
       "      <th></th>\n",
       "      <th>Genre</th>\n",
       "      <th>Year</th>\n",
       "      <th>NA_Sales</th>\n",
       "      <th>EU_Sales</th>\n",
       "      <th>JP_Sales</th>\n",
       "      <th>Other_Sales</th>\n",
       "      <th>Global_Sales</th>\n",
       "    </tr>\n",
       "  </thead>\n",
       "  <tbody>\n",
       "    <tr>\n",
       "      <th>0</th>\n",
       "      <td>Action</td>\n",
       "      <td>2010.0</td>\n",
       "      <td>60.32</td>\n",
       "      <td>35.75</td>\n",
       "      <td>8.58</td>\n",
       "      <td>12.85</td>\n",
       "      <td>117.64</td>\n",
       "    </tr>\n",
       "  </tbody>\n",
       "</table>\n",
       "</div>"
      ],
      "text/plain": [
       "    Genre    Year  NA_Sales  EU_Sales  JP_Sales  Other_Sales  Global_Sales\n",
       "0  Action  2010.0     60.32     35.75      8.58        12.85        117.64"
      ]
     },
     "execution_count": 3,
     "metadata": {},
     "output_type": "execute_result"
    }
   ],
   "source": [
    "tmp = df.loc[df.Year == 2010].groupby(['Genre', 'Year']).agg('sum').reset_index().drop('Rank', axis = 1)\n",
    "tmp.loc[tmp.Global_Sales == tmp.Global_Sales.max()]"
   ]
  },
  {
   "cell_type": "markdown",
   "metadata": {},
   "source": [
    "### 2c"
   ]
  },
  {
   "cell_type": "code",
   "execution_count": 4,
   "metadata": {},
   "outputs": [
    {
     "data": {
      "text/html": [
       "<div>\n",
       "<style scoped>\n",
       "    .dataframe tbody tr th:only-of-type {\n",
       "        vertical-align: middle;\n",
       "    }\n",
       "\n",
       "    .dataframe tbody tr th {\n",
       "        vertical-align: top;\n",
       "    }\n",
       "\n",
       "    .dataframe thead th {\n",
       "        text-align: right;\n",
       "    }\n",
       "</style>\n",
       "<table border=\"1\" class=\"dataframe\">\n",
       "  <thead>\n",
       "    <tr style=\"text-align: right;\">\n",
       "      <th></th>\n",
       "      <th>Typ Gry</th>\n",
       "      <th>Średnia sprzedaż w Japonii</th>\n",
       "    </tr>\n",
       "  </thead>\n",
       "  <tbody>\n",
       "    <tr>\n",
       "      <th>5</th>\n",
       "      <td>Puzzle</td>\n",
       "      <td>0.099439</td>\n",
       "    </tr>\n",
       "    <tr>\n",
       "      <th>7</th>\n",
       "      <td>Role-Playing</td>\n",
       "      <td>0.238293</td>\n",
       "    </tr>\n",
       "    <tr>\n",
       "      <th>11</th>\n",
       "      <td>Strategy</td>\n",
       "      <td>0.073284</td>\n",
       "    </tr>\n",
       "  </tbody>\n",
       "</table>\n",
       "</div>"
      ],
      "text/plain": [
       "         Typ Gry  Średnia sprzedaż w Japonii\n",
       "5         Puzzle                    0.099439\n",
       "7   Role-Playing                    0.238293\n",
       "11      Strategy                    0.073284"
      ]
     },
     "execution_count": 4,
     "metadata": {},
     "output_type": "execute_result"
    }
   ],
   "source": [
    "tmp = df.groupby('Genre').agg('mean').drop('Rank', axis = 1).reset_index()\n",
    "tmp = tmp.loc[tmp.JP_Sales > tmp.EU_Sales]\n",
    "tmp = tmp[['Genre', 'JP_Sales']]\n",
    "tmp = tmp.rename(columns = { 'Genre': 'Typ Gry',\n",
    "                            'JP_Sales': 'Średnia sprzedaż w Japonii'})\n",
    "tmp"
   ]
  },
  {
   "cell_type": "markdown",
   "metadata": {},
   "source": [
    "### Zadanie 2 (3.5 pkt)"
   ]
  },
  {
   "cell_type": "markdown",
   "metadata": {},
   "source": [
    "Wykorzystując narzędzie do wizualizacji w Pythonie (matplotlib, seaborn) należy poprawić wykres, który był rozwiązaniem pracy domowej 2 (najlepiej poprawić swoją pracę domową, ale można też cudzą).\n",
    "\n",
    "Rozwiązanie powinno zawierać:\n",
    "\n",
    "1) oryginalny wykres wraz ze źródłem\n",
    "\n",
    "2) wykres w ggplot2 wraz z linkiem do pracy domowej w której się on pojawił (kod nie jest potrzebny)\n",
    "\n",
    "3) poprawiony wykres z punktu 2) w Pythonie\n",
    "\n",
    "4) uzasadnienie, czemu wykres w Pythonie jest lepszy od dwóch pozostałych."
   ]
  },
  {
   "cell_type": "markdown",
   "metadata": {},
   "source": [
    "### Poprawiane wykresy\n",
    "\n",
    "Oryginalny wykres, strona: https://www.trojmiasto.pl/wiadomosci/Koronawirus-raport-zakazen-30-10-2021-sobota-n161023.html\n",
    "\n",
    "![Oryginalny wykres](wykres_troj.png)\n",
    "\n",
    "Poprawiony wykres, strona: https://github.com/mini-pw/2022Z-DataVisualizationTechniques/tree/main/homeworks/hw2/Fra%C5%84czakKinga\n",
    "\n",
    "![Poprawiony wykres](Rplot.png)"
   ]
  },
  {
   "cell_type": "code",
   "execution_count": 5,
   "metadata": {},
   "outputs": [],
   "source": [
    "troj = pd.read_csv('trojmiasto.csv')"
   ]
  },
  {
   "cell_type": "code",
   "execution_count": 6,
   "metadata": {},
   "outputs": [],
   "source": [
    "from datetime import datetime\n",
    "import matplotlib.pyplot as plt\n",
    "import seaborn as sns"
   ]
  },
  {
   "cell_type": "markdown",
   "metadata": {},
   "source": [
    "### Analiza danych"
   ]
  },
  {
   "cell_type": "code",
   "execution_count": 7,
   "metadata": {},
   "outputs": [],
   "source": [
    "troj['data'] = troj['data'].apply(lambda x: datetime.strptime(x, '%Y-%m-%d'))\n",
    "troj = troj.assign(tydzien = troj.data.apply(lambda x: x.strftime('%W')))\n",
    "daty = troj[[\"data\", \"tydzien\"]].groupby('tydzien').agg('min').reset_index()\n",
    "troj = troj.groupby('tydzien').agg('sum').merge(daty, on = 'tydzien')\n",
    "troj = troj.assign(tydzien = troj.data.apply(lambda x: x.strftime('%d-%m')))\n",
    "troj.trojmiasto = troj.trojmiasto/1000\n",
    "troj.pomorskie = troj.pomorskie/1000 - troj.trojmiasto\n",
    "troj = troj[['tydzien', 'pomorskie', 'trojmiasto']]\n",
    "troj = troj.set_index('tydzien')"
   ]
  },
  {
   "cell_type": "markdown",
   "metadata": {},
   "source": [
    "### Wykres"
   ]
  },
  {
   "cell_type": "code",
   "execution_count": 8,
   "metadata": {},
   "outputs": [
    {
     "data": {
      "image/png": "[encoded data removed]",
      "text/plain": [
       "<Figure size 432x288 with 1 Axes>"
      ]
     },
     "metadata": {
      "needs_background": "light"
     },
     "output_type": "display_data"
    }
   ],
   "source": [
    "troj[['trojmiasto', 'pomorskie']].plot(kind='bar', stacked=True)\n",
    "plt.ylabel('Liczba przyjętych dawek [tys.]')\n",
    "plt.xlabel('Data podania dawek')\n",
    "plt.suptitle('Liczba podanych nowych dawek szczepionki przeciw Covid-19', fontsize=14)\n",
    "plt.title('W miesiącach kwiecień - październik dla 2021 roku')\n",
    "plt.legend().get_texts()[0].set_text(\"trójmiasto\")"
   ]
  },
  {
   "cell_type": "markdown",
   "metadata": {},
   "source": [
    "### Poprawione elementy\n",
    "\n",
    "Na osi z liczbą dawek na skali zmniejszyłam wartości o 1000 i dopisałam to do opisu osi. Dzięki temu łatwiej odczytać wartości z tej osi."
   ]
  }
 ],
 "metadata": {
  "kernelspec": {
   "display_name": "Python 3",
   "language": "python",
   "name": "python3"
  },
  "language_info": {
   "codemirror_mode": {
    "name": "ipython",
    "version": 3
   },
   "file_extension": ".py",
   "mimetype": "text/x-python",
   "name": "python",
   "nbconvert_exporter": "python",
   "pygments_lexer": "ipython3",
   "version": "3.8.8"
  }
 },
 "nbformat": 4,
 "nbformat_minor": 4
}
