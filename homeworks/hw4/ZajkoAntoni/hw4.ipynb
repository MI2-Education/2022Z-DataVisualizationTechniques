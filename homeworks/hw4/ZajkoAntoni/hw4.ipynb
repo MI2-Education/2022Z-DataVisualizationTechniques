{
 "cells": [
  {
   "cell_type": "markdown",
   "metadata": {},
   "source": [
    "## Praca domowa 4"
   ]
  },
  {
   "cell_type": "markdown",
   "metadata": {},
   "source": [
    "#### Autor: Antoni Zajko"
   ]
  },
  {
   "cell_type": "markdown",
   "metadata": {},
   "source": [
    "### Zadanie 1 (1.5 pkt)"
   ]
  },
  {
   "cell_type": "markdown",
   "metadata": {},
   "source": [
    "Używając funkcji z pakietu `numpy` oraz `pandas` odpowiedz na poniższe pytania dotyczące zbioru danych o grach."
   ]
  },
  {
   "cell_type": "code",
   "execution_count": 1,
   "metadata": {
    "ExecuteTime": {
     "end_time": "2021-11-28T11:04:03.981820Z",
     "start_time": "2021-11-28T11:04:01.389725Z"
    }
   },
   "outputs": [
    {
     "data": {
      "text/plain": [
       "Index(['Rank', 'Name', 'Platform', 'Year', 'Genre', 'Publisher', 'NA_Sales',\n",
       "       'EU_Sales', 'JP_Sales', 'Other_Sales', 'Global_Sales'],\n",
       "      dtype='object')"
      ]
     },
     "execution_count": 1,
     "metadata": {},
     "output_type": "execute_result"
    }
   ],
   "source": [
    "import pandas as pd\n",
    "\n",
    "df = pd.read_csv(\"https://raw.githubusercontent.com/R-Ladies-Warsaw/PoweR/master/Cz%C4%99%C5%9B%C4%87%202%20-%20Formatowanie%20danych/Python/data/vgsales.csv\",\n",
    "                delimiter = \",\").dropna().reset_index(drop = True)\n",
    "df.columns"
   ]
  },
  {
   "cell_type": "markdown",
   "metadata": {},
   "source": [
    "a) Wybierz gry, które zostały wydane po 2015 roku przez Nintendo oraz ich sprzedaż w Ameryce była niższa niż w Europie."
   ]
  },
  {
   "cell_type": "code",
   "execution_count": 2,
   "metadata": {
    "ExecuteTime": {
     "end_time": "2021-11-28T11:04:05.310302Z",
     "start_time": "2021-11-28T11:04:05.266159Z"
    }
   },
   "outputs": [
    {
     "data": {
      "text/html": [
       "<div>\n",
       "<style scoped>\n",
       "    .dataframe tbody tr th:only-of-type {\n",
       "        vertical-align: middle;\n",
       "    }\n",
       "\n",
       "    .dataframe tbody tr th {\n",
       "        vertical-align: top;\n",
       "    }\n",
       "\n",
       "    .dataframe thead th {\n",
       "        text-align: right;\n",
       "    }\n",
       "</style>\n",
       "<table border=\"1\" class=\"dataframe\">\n",
       "  <thead>\n",
       "    <tr style=\"text-align: right;\">\n",
       "      <th></th>\n",
       "      <th>Rank</th>\n",
       "      <th>Name</th>\n",
       "      <th>Platform</th>\n",
       "      <th>Year</th>\n",
       "      <th>Genre</th>\n",
       "      <th>Publisher</th>\n",
       "      <th>NA_Sales</th>\n",
       "      <th>EU_Sales</th>\n",
       "      <th>JP_Sales</th>\n",
       "      <th>Other_Sales</th>\n",
       "      <th>Global_Sales</th>\n",
       "    </tr>\n",
       "  </thead>\n",
       "  <tbody>\n",
       "    <tr>\n",
       "      <th>4199</th>\n",
       "      <td>4263</td>\n",
       "      <td>Mario &amp; Sonic at the Rio 2016 Olympic Games</td>\n",
       "      <td>3DS</td>\n",
       "      <td>2016.0</td>\n",
       "      <td>Action</td>\n",
       "      <td>Nintendo</td>\n",
       "      <td>0.04</td>\n",
       "      <td>0.16</td>\n",
       "      <td>0.24</td>\n",
       "      <td>0.01</td>\n",
       "      <td>0.46</td>\n",
       "    </tr>\n",
       "    <tr>\n",
       "      <th>6477</th>\n",
       "      <td>6590</td>\n",
       "      <td>Mario &amp; Sonic at the Rio 2016 Olympic Games</td>\n",
       "      <td>WiiU</td>\n",
       "      <td>2016.0</td>\n",
       "      <td>Action</td>\n",
       "      <td>Nintendo</td>\n",
       "      <td>0.03</td>\n",
       "      <td>0.11</td>\n",
       "      <td>0.10</td>\n",
       "      <td>0.01</td>\n",
       "      <td>0.26</td>\n",
       "    </tr>\n",
       "    <tr>\n",
       "      <th>14703</th>\n",
       "      <td>14971</td>\n",
       "      <td>Teddy Together</td>\n",
       "      <td>3DS</td>\n",
       "      <td>2016.0</td>\n",
       "      <td>Simulation</td>\n",
       "      <td>Nintendo</td>\n",
       "      <td>0.00</td>\n",
       "      <td>0.02</td>\n",
       "      <td>0.00</td>\n",
       "      <td>0.00</td>\n",
       "      <td>0.02</td>\n",
       "    </tr>\n",
       "  </tbody>\n",
       "</table>\n",
       "</div>"
      ],
      "text/plain": [
       "        Rank                                         Name Platform    Year  \\\n",
       "4199    4263  Mario & Sonic at the Rio 2016 Olympic Games      3DS  2016.0   \n",
       "6477    6590  Mario & Sonic at the Rio 2016 Olympic Games     WiiU  2016.0   \n",
       "14703  14971                               Teddy Together      3DS  2016.0   \n",
       "\n",
       "            Genre Publisher  NA_Sales  EU_Sales  JP_Sales  Other_Sales  \\\n",
       "4199       Action  Nintendo      0.04      0.16      0.24         0.01   \n",
       "6477       Action  Nintendo      0.03      0.11      0.10         0.01   \n",
       "14703  Simulation  Nintendo      0.00      0.02      0.00         0.00   \n",
       "\n",
       "       Global_Sales  \n",
       "4199           0.46  \n",
       "6477           0.26  \n",
       "14703          0.02  "
      ]
     },
     "execution_count": 2,
     "metadata": {},
     "output_type": "execute_result"
    }
   ],
   "source": [
    "df.query('Year > 2015 and Publisher == \\'Nintendo\\' and NA_Sales < EU_Sales')"
   ]
  },
  {
   "cell_type": "markdown",
   "metadata": {},
   "source": [
    "b) Jak rodzaj gry zarobił najwięcej w roku 2010?"
   ]
  },
  {
   "cell_type": "code",
   "execution_count": 4,
   "metadata": {
    "ExecuteTime": {
     "end_time": "2021-11-28T11:06:28.178444Z",
     "start_time": "2021-11-28T11:06:28.135447Z"
    }
   },
   "outputs": [
    {
     "data": {
      "text/html": [
       "<div>\n",
       "<style scoped>\n",
       "    .dataframe tbody tr th:only-of-type {\n",
       "        vertical-align: middle;\n",
       "    }\n",
       "\n",
       "    .dataframe tbody tr th {\n",
       "        vertical-align: top;\n",
       "    }\n",
       "\n",
       "    .dataframe thead th {\n",
       "        text-align: right;\n",
       "    }\n",
       "</style>\n",
       "<table border=\"1\" class=\"dataframe\">\n",
       "  <thead>\n",
       "    <tr style=\"text-align: right;\">\n",
       "      <th></th>\n",
       "      <th>Genre</th>\n",
       "      <th>Global_Sales</th>\n",
       "    </tr>\n",
       "  </thead>\n",
       "  <tbody>\n",
       "    <tr>\n",
       "      <th>0</th>\n",
       "      <td>Action</td>\n",
       "      <td>117.64</td>\n",
       "    </tr>\n",
       "  </tbody>\n",
       "</table>\n",
       "</div>"
      ],
      "text/plain": [
       "    Genre  Global_Sales\n",
       "0  Action        117.64"
      ]
     },
     "execution_count": 4,
     "metadata": {},
     "output_type": "execute_result"
    }
   ],
   "source": [
    "df.query('Year == 2010').groupby('Genre', as_index = False).agg({'Global_Sales': np.sum}). \\\n",
    "sort_values('Global_Sales', ascending = False).head(1)"
   ]
  },
  {
   "cell_type": "markdown",
   "metadata": {},
   "source": [
    "c) Jakie typy gier sprzedają się średnio lepiej w Japonii niż w Europie? Jakie to typy gier i jaka jest ta wartość średnia. Wynikiem powinna być tabelka posortowana względem średnich. Nazwij kolumny `Typ Gry` i `Średnia sprzedaż w Japonii`."
   ]
  },
  {
   "cell_type": "code",
   "execution_count": 5,
   "metadata": {
    "ExecuteTime": {
     "end_time": "2021-11-28T11:06:56.555234Z",
     "start_time": "2021-11-28T11:06:56.521234Z"
    }
   },
   "outputs": [
    {
     "data": {
      "text/html": [
       "<div>\n",
       "<style scoped>\n",
       "    .dataframe tbody tr th:only-of-type {\n",
       "        vertical-align: middle;\n",
       "    }\n",
       "\n",
       "    .dataframe tbody tr th {\n",
       "        vertical-align: top;\n",
       "    }\n",
       "\n",
       "    .dataframe thead th {\n",
       "        text-align: right;\n",
       "    }\n",
       "</style>\n",
       "<table border=\"1\" class=\"dataframe\">\n",
       "  <thead>\n",
       "    <tr style=\"text-align: right;\">\n",
       "      <th></th>\n",
       "      <th>Typ gry</th>\n",
       "      <th>Średnia sprzedaż w Japonii</th>\n",
       "    </tr>\n",
       "  </thead>\n",
       "  <tbody>\n",
       "    <tr>\n",
       "      <th>0</th>\n",
       "      <td>Role-Playing</td>\n",
       "      <td>0.238293</td>\n",
       "    </tr>\n",
       "    <tr>\n",
       "      <th>1</th>\n",
       "      <td>Puzzle</td>\n",
       "      <td>0.099439</td>\n",
       "    </tr>\n",
       "    <tr>\n",
       "      <th>2</th>\n",
       "      <td>Strategy</td>\n",
       "      <td>0.073284</td>\n",
       "    </tr>\n",
       "  </tbody>\n",
       "</table>\n",
       "</div>"
      ],
      "text/plain": [
       "        Typ gry  Średnia sprzedaż w Japonii\n",
       "0  Role-Playing                    0.238293\n",
       "1        Puzzle                    0.099439\n",
       "2      Strategy                    0.073284"
      ]
     },
     "execution_count": 5,
     "metadata": {},
     "output_type": "execute_result"
    }
   ],
   "source": [
    "df.groupby('Genre', as_index = False). \\\n",
    "    agg({'JP_Sales': np.mean, 'EU_Sales': np.mean}). \\\n",
    "    query('JP_Sales > EU_Sales'). \\\n",
    "    loc[:, ['Genre', 'JP_Sales']]. \\\n",
    "    rename(columns = {'Genre': 'Typ gry', 'JP_Sales': 'Średnia sprzedaż w Japonii'}). \\\n",
    "    sort_values('Średnia sprzedaż w Japonii', ascending = False).reset_index(drop = True)"
   ]
  },
  {
   "cell_type": "markdown",
   "metadata": {},
   "source": [
    "### Zadanie 2 (3.5 pkt)"
   ]
  },
  {
   "cell_type": "markdown",
   "metadata": {},
   "source": [
    "Wykorzystując narzędzie do wizualizacji w Pythonie (matplotlib, seaborn) należy poprawić wykres, który był rozwiązaniem pracy domowej 2 (najlepiej poprawić swoją pracę domową, ale można też cudzą)."
   ]
  },
  {
   "cell_type": "markdown",
   "metadata": {},
   "source": [
    "### 1) Oryginalny wykres wraz ze źródłem\n",
    "\n",
    "![Oryginanly wykres](https://galeria.bankier.pl/p/3/9/6716410b39f34a-948-461-0-0-1130-550.webp)\n",
    "\n",
    "\n",
    "Źródło :<a href = https://www.bankier.pl/wiadomosc/Inflacja-zjada-zarobki-deweloperzy-wciskaja-hamulec-a-ceny-paliw-bija-kolejne-rekordy-Wykresy-tygodnia-8210330.html> https://www.bankier.pl/wiadomosc/Inflacja-zjada-zarobki-deweloperzy-wciskaja-hamulec-a-ceny-paliw-bija-kolejne-rekordy-Wykresy-tygodnia-8210330.html</a>"
   ]
  },
  {
   "attachments": {
    "image.png": {
     "image/png": "[encoded data removed]"
    }
   },
   "cell_type": "markdown",
   "metadata": {},
   "source": [
    "## 2) Wykres w ggplot2 wraz z linkiem do pracy domowej w której się on pojawił\n",
    "![image.png](attachment:image.png)\n",
    "Link: <a href=https://github.com/mini-pw/2022Z-DataVisualizationTechniques/blob/main/homeworks/hw2/WojewodaMalwina/ZD2.pdf> https://github.com/mini-pw/2022Z-DataVisualizationTechniques/blob/main/homeworks/hw2/WojewodaMalwina/ZD2.pdf </a>\n"
   ]
  },
  {
   "cell_type": "markdown",
   "metadata": {},
   "source": [
    "##  3) Poprawiony wykres z punktu 2) w Pythonie"
   ]
  },
  {
   "cell_type": "code",
   "execution_count": 6,
   "metadata": {
    "ExecuteTime": {
     "end_time": "2021-11-28T11:07:36.008324Z",
     "start_time": "2021-11-28T11:07:35.116126Z"
    }
   },
   "outputs": [],
   "source": [
    "import matplotlib.pyplot as plt"
   ]
  },
  {
   "cell_type": "code",
   "execution_count": 7,
   "metadata": {
    "ExecuteTime": {
     "end_time": "2021-11-28T11:07:37.905834Z",
     "start_time": "2021-11-28T11:07:37.886836Z"
    }
   },
   "outputs": [],
   "source": [
    "counts = [195, 132, 211.4, 1692.4, 665.2, 49.6]\n",
    "bills = ['10 zł', '20 zł', '50 zł', '100 zł', '200 zł', '500 zł']"
   ]
  },
  {
   "cell_type": "code",
   "execution_count": 8,
   "metadata": {
    "ExecuteTime": {
     "end_time": "2021-11-28T11:07:39.033149Z",
     "start_time": "2021-11-28T11:07:38.805536Z"
    },
    "scrolled": true
   },
   "outputs": [
    {
     "data": {
      "image/png": "[encoded data removed]",
      "text/plain": [
       "<Figure size 648x360 with 1 Axes>"
      ]
     },
     "metadata": {
      "needs_background": "light"
     },
     "output_type": "display_data"
    }
   ],
   "source": [
    "plt.rcParams['axes.axisbelow'] = True\n",
    "plt.rcParams['figure.figsize'] = (9, 5)\n",
    "plt.grid(color = '#DDDDDD')\n",
    "plt.bar(x = bills, height = counts, color = '#5E8D66', width = .55)\n",
    "plt.title('Struktura banknotów w obiegu na koniec III kwartału 2021 r.')\n",
    "plt.ylabel('Liczba sztuk[mln]')\n",
    "plt.show()"
   ]
  },
  {
   "cell_type": "markdown",
   "metadata": {},
   "source": [
    "## 4) Uzasadnienie, czemu wykres w Pythonie jest lepszy od dwóch pozostałych."
   ]
  },
  {
   "cell_type": "markdown",
   "metadata": {},
   "source": [
    "Utworzony przeze mnie wykres jest lepszy od pierwotnego, ponieważ nie jest kołowy i dane na nim są znacznie bardziej czytelne. Ponadto nie ma kodowania tego samego aspektu danych wielokrotnie jak na tamtym wykresie np. podział na nominały został zakodowany poprzez kolor, oraz podpisy na wykresie.\n",
    "\n",
    "Jeśli chodzi o wykres z hw2, to mój jest lepszy pod względem estetycznym. Po pierwsze uważam, że dobrany przeze mnie kolor jest dużo przyjaźniejszy dla oka. Ponadto siatka w tle dużo lepiej komponuje się z całością. Usunąłem podpisy wartości na słupkach, gdyż uważam, że dokładne wartości nie są aż tak bardzo istotne na tym wykresie, bo jego rolą jest ukazanie ogólnej struktury banknotów, a nie ile dokładnie jest każdego z nich. Słupki są nieco węższe przez co słupek reprezentujący 500 zł wygląda nieco lepiej, oraz różnice w wysokościach słupków są bardziej widoczne. Wprowadzone przeze mnie zmiany nie wpłynęły znacząco na czytelność danych, jednakże znacząco poprawiły estetykę wykresu."
   ]
  }
 ],
 "metadata": {
  "kernelspec": {
   "display_name": "Python 3",
   "language": "python",
   "name": "python3"
  },
  "language_info": {
   "codemirror_mode": {
    "name": "ipython",
    "version": 3
   },
   "file_extension": ".py",
   "mimetype": "text/x-python",
   "name": "python",
   "nbconvert_exporter": "python",
   "pygments_lexer": "ipython3",
   "version": "3.8.8"
  },
  "nbTranslate": {
   "displayLangs": [
    "pl",
    "en"
   ],
   "hotkey": "alt-t",
   "langInMainMenu": true,
   "sourceLang": "en",
   "targetLang": "pl",
   "useGoogleTranslate": true
  },
  "varInspector": {
   "cols": {
    "lenName": 16,
    "lenType": 16,
    "lenVar": 40
   },
   "kernels_config": {
    "python": {
     "delete_cmd_postfix": "",
     "delete_cmd_prefix": "del ",
     "library": "var_list.py",
     "varRefreshCmd": "print(var_dic_list())"
    },
    "r": {
     "delete_cmd_postfix": ") ",
     "delete_cmd_prefix": "rm(",
     "library": "var_list.r",
     "varRefreshCmd": "cat(var_dic_list()) "
    }
   },
   "types_to_exclude": [
    "module",
    "function",
    "builtin_function_or_method",
    "instance",
    "_Feature"
   ],
   "window_display": false
  }
 },
 "nbformat": 4,
 "nbformat_minor": 4
}
