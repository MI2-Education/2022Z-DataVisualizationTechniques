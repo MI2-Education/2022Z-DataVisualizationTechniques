{
 "cells": [
  {
   "cell_type": "markdown",
   "metadata": {},
   "source": [
    "# Praca domowa 4"
   ]
  },
  {
   "cell_type": "markdown",
   "metadata": {},
   "source": [
    "### Autor: Jakub Piwko"
   ]
  },
  {
   "cell_type": "markdown",
   "metadata": {},
   "source": [
    "## Zadanie 1 (1.5 pkt)"
   ]
  },
  {
   "cell_type": "markdown",
   "metadata": {},
   "source": [
    "Używając funkcji z pakietu `numpy` oraz `pandas` odpowiedz na poniższe pytania dotyczące zbioru danych o grach."
   ]
  },
  {
   "cell_type": "markdown",
   "metadata": {},
   "source": [
    "a) Wybierz gry, które zostały wydane po 2015 roku przez Nintendo oraz ich sprzedaż w Ameryce była niższa niż w Europie.  \n",
    "\n",
    "b) Jak rodzaj gry zarobił najwięcej w roku 2010?\n",
    "\n",
    "c) Jakie typy gier sprzedają się średnio lepiej w Japonii niż w Europie? Jakie to typy gier i jaka jest ta wartość średnia. Wynikiem powinna być tabelka posortowana względem średnich. Nazwij kolumny `Typ Gry` i `Średnia sprzedaż w Japonii`.\n"
   ]
  },
  {
   "cell_type": "markdown",
   "metadata": {},
   "source": [
    "### Rozwiązanie:"
   ]
  },
  {
   "cell_type": "code",
   "execution_count": 2,
   "metadata": {},
   "outputs": [],
   "source": [
    "import pandas as pd\n",
    "import numpy as np\n",
    "\n",
    "df = pd.read_csv(\"https://raw.githubusercontent.com/R-Ladies-Warsaw/PoweR/master/Cz%C4%99%C5%9B%C4%87%202%20-%20Formatowanie%20danych/Python/data/vgsales.csv\",\n",
    "                delimiter = \",\").dropna().reset_index(drop = True)"
   ]
  },
  {
   "cell_type": "markdown",
   "metadata": {},
   "source": [
    "**a)** Wybierz gry, które zostały wydane po 2015 roku przez Nintendo oraz ich sprzedaż w Ameryce była niższa niż w Europie.  "
   ]
  },
  {
   "cell_type": "code",
   "execution_count": 7,
   "metadata": {},
   "outputs": [
    {
     "data": {
      "text/html": [
       "<div>\n",
       "<style scoped>\n",
       "    .dataframe tbody tr th:only-of-type {\n",
       "        vertical-align: middle;\n",
       "    }\n",
       "\n",
       "    .dataframe tbody tr th {\n",
       "        vertical-align: top;\n",
       "    }\n",
       "\n",
       "    .dataframe thead th {\n",
       "        text-align: right;\n",
       "    }\n",
       "</style>\n",
       "<table border=\"1\" class=\"dataframe\">\n",
       "  <thead>\n",
       "    <tr style=\"text-align: right;\">\n",
       "      <th></th>\n",
       "      <th>Rank</th>\n",
       "      <th>Name</th>\n",
       "      <th>Platform</th>\n",
       "      <th>Year</th>\n",
       "      <th>Genre</th>\n",
       "      <th>Publisher</th>\n",
       "      <th>NA_Sales</th>\n",
       "      <th>EU_Sales</th>\n",
       "      <th>JP_Sales</th>\n",
       "      <th>Other_Sales</th>\n",
       "      <th>Global_Sales</th>\n",
       "    </tr>\n",
       "  </thead>\n",
       "  <tbody>\n",
       "    <tr>\n",
       "      <th>0</th>\n",
       "      <td>4263</td>\n",
       "      <td>Mario &amp; Sonic at the Rio 2016 Olympic Games</td>\n",
       "      <td>3DS</td>\n",
       "      <td>2016.0</td>\n",
       "      <td>Action</td>\n",
       "      <td>Nintendo</td>\n",
       "      <td>0.04</td>\n",
       "      <td>0.16</td>\n",
       "      <td>0.24</td>\n",
       "      <td>0.01</td>\n",
       "      <td>0.46</td>\n",
       "    </tr>\n",
       "    <tr>\n",
       "      <th>1</th>\n",
       "      <td>6590</td>\n",
       "      <td>Mario &amp; Sonic at the Rio 2016 Olympic Games</td>\n",
       "      <td>WiiU</td>\n",
       "      <td>2016.0</td>\n",
       "      <td>Action</td>\n",
       "      <td>Nintendo</td>\n",
       "      <td>0.03</td>\n",
       "      <td>0.11</td>\n",
       "      <td>0.10</td>\n",
       "      <td>0.01</td>\n",
       "      <td>0.26</td>\n",
       "    </tr>\n",
       "    <tr>\n",
       "      <th>2</th>\n",
       "      <td>14971</td>\n",
       "      <td>Teddy Together</td>\n",
       "      <td>3DS</td>\n",
       "      <td>2016.0</td>\n",
       "      <td>Simulation</td>\n",
       "      <td>Nintendo</td>\n",
       "      <td>0.00</td>\n",
       "      <td>0.02</td>\n",
       "      <td>0.00</td>\n",
       "      <td>0.00</td>\n",
       "      <td>0.02</td>\n",
       "    </tr>\n",
       "  </tbody>\n",
       "</table>\n",
       "</div>"
      ],
      "text/plain": [
       "    Rank                                         Name Platform    Year  \\\n",
       "0   4263  Mario & Sonic at the Rio 2016 Olympic Games      3DS  2016.0   \n",
       "1   6590  Mario & Sonic at the Rio 2016 Olympic Games     WiiU  2016.0   \n",
       "2  14971                               Teddy Together      3DS  2016.0   \n",
       "\n",
       "        Genre Publisher  NA_Sales  EU_Sales  JP_Sales  Other_Sales  \\\n",
       "0      Action  Nintendo      0.04      0.16      0.24         0.01   \n",
       "1      Action  Nintendo      0.03      0.11      0.10         0.01   \n",
       "2  Simulation  Nintendo      0.00      0.02      0.00         0.00   \n",
       "\n",
       "   Global_Sales  \n",
       "0          0.46  \n",
       "1          0.26  \n",
       "2          0.02  "
      ]
     },
     "execution_count": 7,
     "metadata": {},
     "output_type": "execute_result"
    }
   ],
   "source": [
    "df.loc[(df.Year > 2015) & (df.Publisher == \"Nintendo\") & (df.EU_Sales > df.NA_Sales)].reset_index(drop = True)"
   ]
  },
  {
   "cell_type": "markdown",
   "metadata": {},
   "source": [
    "**b)** Jak rodzaj gry zarobił najwięcej w roku 2010?"
   ]
  },
  {
   "cell_type": "code",
   "execution_count": 8,
   "metadata": {
    "scrolled": true
   },
   "outputs": [
    {
     "data": {
      "text/plain": [
       "Rank                                16\n",
       "Name                Kinect Adventures!\n",
       "Platform                          X360\n",
       "Year                              2010\n",
       "Genre                             Misc\n",
       "Publisher       Microsoft Game Studios\n",
       "NA_Sales                         14.97\n",
       "EU_Sales                          4.94\n",
       "JP_Sales                          0.24\n",
       "Other_Sales                       1.67\n",
       "Global_Sales                     21.82\n",
       "Name: 15, dtype: object"
      ]
     },
     "execution_count": 8,
     "metadata": {},
     "output_type": "execute_result"
    }
   ],
   "source": [
    "df.loc[(df.Year == 2010)].iloc[df[\"Global_Sales\"].idxmax()]"
   ]
  },
  {
   "cell_type": "markdown",
   "metadata": {},
   "source": [
    "**c)** Jakie typy gier sprzedają się średnio lepiej w Japonii niż w Europie? Jakie to typy gier i jaka jest ta wartość średnia. Wynikiem powinna być tabelka posortowana względem średnich. Nazwij kolumny `Typ Gry` i `Średnia sprzedaż w Japonii`."
   ]
  },
  {
   "cell_type": "code",
   "execution_count": 6,
   "metadata": {},
   "outputs": [
    {
     "data": {
      "text/html": [
       "<div>\n",
       "<style scoped>\n",
       "    .dataframe tbody tr th:only-of-type {\n",
       "        vertical-align: middle;\n",
       "    }\n",
       "\n",
       "    .dataframe tbody tr th {\n",
       "        vertical-align: top;\n",
       "    }\n",
       "\n",
       "    .dataframe thead th {\n",
       "        text-align: right;\n",
       "    }\n",
       "</style>\n",
       "<table border=\"1\" class=\"dataframe\">\n",
       "  <thead>\n",
       "    <tr style=\"text-align: right;\">\n",
       "      <th></th>\n",
       "      <th>Typ Gry</th>\n",
       "      <th>Średnia sprzedaż w Japonii</th>\n",
       "    </tr>\n",
       "  </thead>\n",
       "  <tbody>\n",
       "    <tr>\n",
       "      <th>2</th>\n",
       "      <td>Strategy</td>\n",
       "      <td>0.073284</td>\n",
       "    </tr>\n",
       "    <tr>\n",
       "      <th>0</th>\n",
       "      <td>Puzzle</td>\n",
       "      <td>0.099439</td>\n",
       "    </tr>\n",
       "    <tr>\n",
       "      <th>1</th>\n",
       "      <td>Role-Playing</td>\n",
       "      <td>0.238293</td>\n",
       "    </tr>\n",
       "  </tbody>\n",
       "</table>\n",
       "</div>"
      ],
      "text/plain": [
       "        Typ Gry  Średnia sprzedaż w Japonii\n",
       "2      Strategy                    0.073284\n",
       "0        Puzzle                    0.099439\n",
       "1  Role-Playing                    0.238293"
      ]
     },
     "execution_count": 6,
     "metadata": {},
     "output_type": "execute_result"
    }
   ],
   "source": [
    "tmp = df.groupby(\"Genre\")[[\"EU_Sales\", \"JP_Sales\"]].agg(\"mean\")\n",
    "tmp.loc[tmp.EU_Sales < tmp.JP_Sales].reset_index()[[\"Genre\", \"JP_Sales\"]].rename(columns = \n",
    "                                                                                 {'Genre': 'Typ Gry', \n",
    "                                                                                  'JP_Sales': 'Średnia sprzedaż w Japonii'},\n",
    "                                                                                 inplace = False).sort_values('Średnia sprzedaż w Japonii')\n"
   ]
  },
  {
   "cell_type": "markdown",
   "metadata": {},
   "source": [
    "# -------------------------------------------------------------------------------------------------"
   ]
  },
  {
   "cell_type": "markdown",
   "metadata": {},
   "source": [
    "## Zadanie 2 (3.5 pkt)"
   ]
  },
  {
   "cell_type": "markdown",
   "metadata": {},
   "source": [
    "Wykorzystując narzędzie do wizualizacji w Pythonie (matplotlib, seaborn) należy poprawić wykres, który był rozwiązaniem pracy domowej 2 (najlepiej poprawić swoją pracę domową, ale można też cudzą).\n",
    "\n",
    "Rozwiązanie powinno zawierać:\n",
    "\n",
    "1) oryginalny wykres wraz ze źródłem\n",
    "\n",
    "2) wykres w ggplot2 wraz z linkiem do pracy domowej w której się on pojawił (kod nie jest potrzebny)\n",
    "\n",
    "3) poprawiony wykres z punktu 2) w Pythonie\n",
    "\n",
    "4) uzasadnienie, czemu wykres w Pythonie jest lepszy od dwóch pozostałych."
   ]
  },
  {
   "cell_type": "markdown",
   "metadata": {},
   "source": [
    "### Rozwiązanie:"
   ]
  },
  {
   "cell_type": "code",
   "execution_count": null,
   "metadata": {},
   "outputs": [],
   "source": [
    "from IPython.display import Image\n",
    "import matplotlib.pyplot as plt"
   ]
  },
  {
   "cell_type": "markdown",
   "metadata": {},
   "source": [
    "#### Oryginalny wykres:\n",
    "\n",
    "![](./Oryginalny.png)\n",
    "Wykres ze strony: https://www.nik.gov.pl/aktualnosci/gospodarka-majatkowa-i-finansowa-telewizji-polskiej.html\n"
   ]
  },
  {
   "cell_type": "markdown",
   "metadata": {},
   "source": [
    "#### Wykres poprawiony przy użyciu ggplot2:\n",
    "\n",
    "<img src = \"Poprawiony.png\" style=\"height:250px;height:500px\"/>\n",
    "Link do pracy domowej: https://github.com/mini-pw/2022Z-DataVisualizationTechniques/blob/main/homeworks/hw2/PiwkoJakub/HW2_raport.pdf"
   ]
  },
  {
   "cell_type": "markdown",
   "metadata": {},
   "source": [
    "#### Wykres poprawiony w Pythonie:"
   ]
  },
  {
   "cell_type": "code",
   "execution_count": 131,
   "metadata": {},
   "outputs": [],
   "source": [
    "#Tworzę ramkę z potrzebnymi danymi, które pochodzą z tej samej strony, co wykres.\n",
    "data = {'Rok' : [2014, 2015, 2016, 2017, 2018, 2019],\n",
    "        'Przychody z reklam' : [901.9, 922.3, 872.3, 798.7, 911.9, 973.7],\n",
    "        'Przychody ogółem': [1495.7, 1581.2, 1473.5, 1777.3, 2205, 2707.3]}\n",
    "df = pd.DataFrame(data)\n",
    "tmp = df[\"Przychody ogółem\"] - df[\"Przychody z reklam\"]\n",
    "df[\"Pozostałe przychody\"] = tmp"
   ]
  },
  {
   "cell_type": "code",
   "execution_count": 130,
   "metadata": {},
   "outputs": [
    {
     "data": {
      "image/png": "[encoded data removed]",
      "text/plain": [
       "<Figure size 700x700 with 1 Axes>"
      ]
     },
     "metadata": {},
     "output_type": "display_data"
    }
   ],
   "source": [
    "#Rysowanie wykresu\n",
    "plt.rcParams['axes.axisbelow'] = True\n",
    "fig = plt.figure(figsize=(7,7))\n",
    "ax = plt.axes()\n",
    "fig.suptitle(\"Udział wpływów z reklam w przychodach ogółem\")\n",
    "plt.grid(which='major', axis='y', color = \"grey\", linestyle='dashed')\n",
    "plt.xlabel(\"Rok\")\n",
    "plt.ylabel(\"Wpływy ( w mln zł)\")\n",
    "p1 = plt.bar(df[\"Rok\"], height = df[\"Przychody ogółem\"], color = \"#9fbdd5\", width = 0.6)\n",
    "p2 = plt.bar(df[\"Rok\"], df[\"Przychody z reklam\"], color = \"#6251de\", width = 0.6)\n",
    "ax.set_yticks([i for i in range(0,3000,200)])\n",
    "plt.legend((p2[0], p1[0]), ('Przychody z reklam', 'Pozostałe przychody'), \n",
    "           title = \"Źródło wpływów:\", bbox_to_anchor=(1, 1))\n",
    "for rok, prz, pos in zip(df[\"Rok\"].tolist(), df[\"Przychody ogółem\"].tolist(), df[\"Przychody ogółem\"].tolist()):\n",
    "   plt.text(rok, prz, pos)\n",
    "for rok, prz, pos in zip(df[\"Rok\"].tolist(), df[\"Przychody z reklam\"].tolist(), df[\"Przychody z reklam\"].tolist()):\n",
    "   plt.text(rok, prz, pos)\n"
   ]
  },
  {
   "cell_type": "markdown",
   "metadata": {},
   "source": [
    "#### Uzasadnienie:"
   ]
  },
  {
   "cell_type": "markdown",
   "metadata": {},
   "source": [
    "Nowy wykres w stosunku do tego wykonanego w ggplot ma lepiej oznaczoną skalę Y. Jest na niej więcej wartości, dzięki czemu jest czytelniejsza. Lepiej wygląda tło. Zamiast białej siatki na mdłym szarym panelu, teraz postawiłem na białe tło i bardziej wyrazistą ciemną siatkę, składającą się tylko z poziomych linii, gdyż te pionowe są zbędne. Siatka ma większe zagęszczenie, przez to że skala Y jest dokładniejsza, co ułatwia porównywanie wysokości słupków. Dodatkowo dodałem napisy z dokładnymi wartościami słupków, zarówno dla całego słupka, jak i dla części z przychodami z reklam. Dzięki temu odczyt danych będzie precyzyjny. Daje to też możliwość porównywania słupków po dokładnych wartościach, w przypadku gdy porównywanie ich wysokości nie wystarczy. "
   ]
  }
 ],
 "metadata": {
  "kernelspec": {
   "display_name": "Python 3",
   "language": "python",
   "name": "python3"
  },
  "language_info": {
   "codemirror_mode": {
    "name": "ipython",
    "version": 3
   },
   "file_extension": ".py",
   "mimetype": "text/x-python",
   "name": "python",
   "nbconvert_exporter": "python",
   "pygments_lexer": "ipython3",
   "version": "3.8.3"
  }
 },
 "nbformat": 4,
 "nbformat_minor": 4
}
