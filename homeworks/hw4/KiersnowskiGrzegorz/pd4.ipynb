{
 "cells": [
  {
   "cell_type": "markdown",
   "id": "2da6d30f",
   "metadata": {},
   "source": [
    "# Praca domowa 4\n",
    "# Grzegorz Kiersnowski\n",
    "\n",
    "\n",
    "## Zadanie 1 (1.5 pkt)\n",
    "\n",
    "Używając funkcji z pakietu numpy oraz pandas odpowiedz na poniższe pytania dotyczące zbioru danych o grach.\n",
    "\n",
    "### a) Wybierz gry, które zostały wydane po 2015 roku przez Nintendo oraz ich sprzedaż w Ameryce była niższa niż w Europie"
   ]
  },
  {
   "cell_type": "code",
   "execution_count": 2,
   "id": "53338358",
   "metadata": {},
   "outputs": [
    {
     "name": "stdout",
     "output_type": "stream",
     "text": [
      "<class 'pandas.core.frame.DataFrame'>\n",
      "RangeIndex: 16291 entries, 0 to 16290\n",
      "Data columns (total 11 columns):\n",
      " #   Column        Non-Null Count  Dtype  \n",
      "---  ------        --------------  -----  \n",
      " 0   Rank          16291 non-null  int64  \n",
      " 1   Name          16291 non-null  object \n",
      " 2   Platform      16291 non-null  object \n",
      " 3   Year          16291 non-null  float64\n",
      " 4   Genre         16291 non-null  object \n",
      " 5   Publisher     16291 non-null  object \n",
      " 6   NA_Sales      16291 non-null  float64\n",
      " 7   EU_Sales      16291 non-null  float64\n",
      " 8   JP_Sales      16291 non-null  float64\n",
      " 9   Other_Sales   16291 non-null  float64\n",
      " 10  Global_Sales  16291 non-null  float64\n",
      "dtypes: float64(6), int64(1), object(4)\n",
      "memory usage: 1.4+ MB\n"
     ]
    }
   ],
   "source": [
    "import pandas as pd\n",
    "\n",
    "df = pd.read_csv(\"https://raw.githubusercontent.com/R-Ladies-Warsaw/PoweR/master/Cz%C4%99%C5%9B%C4%87%202%20-%20Formatowanie%20danych/Python/data/vgsales.csv\",\n",
    "                delimiter = \",\").dropna().reset_index(drop = True)\n",
    "df.info()"
   ]
  },
  {
   "cell_type": "code",
   "execution_count": 14,
   "id": "ab9acacc",
   "metadata": {},
   "outputs": [
    {
     "data": {
      "text/plain": [
       "0    Mario & Sonic at the Rio 2016 Olympic Games\n",
       "1    Mario & Sonic at the Rio 2016 Olympic Games\n",
       "2                                 Teddy Together\n",
       "Name: Name, dtype: object"
      ]
     },
     "execution_count": 14,
     "metadata": {},
     "output_type": "execute_result"
    }
   ],
   "source": [
    "df_a = df[(df.Publisher == 'Nintendo') & (df.NA_Sales < df.EU_Sales) & (df.Year>2015)]\n",
    "df_a.loc[:,\"Name\"].reset_index(drop=True)\n"
   ]
  },
  {
   "cell_type": "markdown",
   "id": "e76d2f3d",
   "metadata": {},
   "source": [
    "### b) Jak rodzaj gry zarobił najwięcej w roku 2010?"
   ]
  },
  {
   "cell_type": "code",
   "execution_count": 31,
   "id": "09dff09e",
   "metadata": {},
   "outputs": [
    {
     "data": {
      "text/html": [
       "<div>\n",
       "<style scoped>\n",
       "    .dataframe tbody tr th:only-of-type {\n",
       "        vertical-align: middle;\n",
       "    }\n",
       "\n",
       "    .dataframe tbody tr th {\n",
       "        vertical-align: top;\n",
       "    }\n",
       "\n",
       "    .dataframe thead th {\n",
       "        text-align: right;\n",
       "    }\n",
       "</style>\n",
       "<table border=\"1\" class=\"dataframe\">\n",
       "  <thead>\n",
       "    <tr style=\"text-align: right;\">\n",
       "      <th></th>\n",
       "      <th>Global_Sales</th>\n",
       "    </tr>\n",
       "    <tr>\n",
       "      <th>Genre</th>\n",
       "      <th></th>\n",
       "    </tr>\n",
       "  </thead>\n",
       "  <tbody>\n",
       "    <tr>\n",
       "      <th>Action</th>\n",
       "      <td>117.64</td>\n",
       "    </tr>\n",
       "    <tr>\n",
       "      <th>Misc</th>\n",
       "      <td>96.86</td>\n",
       "    </tr>\n",
       "    <tr>\n",
       "      <th>Sports</th>\n",
       "      <td>92.53</td>\n",
       "    </tr>\n",
       "    <tr>\n",
       "      <th>Shooter</th>\n",
       "      <td>77.41</td>\n",
       "    </tr>\n",
       "    <tr>\n",
       "      <th>Role-Playing</th>\n",
       "      <td>70.52</td>\n",
       "    </tr>\n",
       "    <tr>\n",
       "      <th>Racing</th>\n",
       "      <td>34.93</td>\n",
       "    </tr>\n",
       "    <tr>\n",
       "      <th>Platform</th>\n",
       "      <td>31.90</td>\n",
       "    </tr>\n",
       "    <tr>\n",
       "      <th>Simulation</th>\n",
       "      <td>21.99</td>\n",
       "    </tr>\n",
       "    <tr>\n",
       "      <th>Adventure</th>\n",
       "      <td>16.57</td>\n",
       "    </tr>\n",
       "    <tr>\n",
       "      <th>Fighting</th>\n",
       "      <td>14.89</td>\n",
       "    </tr>\n",
       "    <tr>\n",
       "      <th>Strategy</th>\n",
       "      <td>13.87</td>\n",
       "    </tr>\n",
       "    <tr>\n",
       "      <th>Puzzle</th>\n",
       "      <td>11.18</td>\n",
       "    </tr>\n",
       "  </tbody>\n",
       "</table>\n",
       "</div>"
      ],
      "text/plain": [
       "              Global_Sales\n",
       "Genre                     \n",
       "Action              117.64\n",
       "Misc                 96.86\n",
       "Sports               92.53\n",
       "Shooter              77.41\n",
       "Role-Playing         70.52\n",
       "Racing               34.93\n",
       "Platform             31.90\n",
       "Simulation           21.99\n",
       "Adventure            16.57\n",
       "Fighting             14.89\n",
       "Strategy             13.87\n",
       "Puzzle               11.18"
      ]
     },
     "execution_count": 31,
     "metadata": {},
     "output_type": "execute_result"
    }
   ],
   "source": [
    "df_b = df[df.Year == 2010].loc[:,['Global_Sales', 'Genre']].groupby(\"Genre\").sum().sort_values(\"Global_Sales\", ascending = False)\n",
    "df_b"
   ]
  },
  {
   "cell_type": "markdown",
   "id": "4cd96bd5",
   "metadata": {},
   "source": [
    "### c) Jakie typy gier sprzedają się średnio lepiej w Japonii niż w Europie? Jakie to typy gier i jaka jest ta wartość średnia. Wynikiem powinna być tabelka posortowana względem średnich. Nazwij kolumny Typ Gry i Średnia sprzedaż w Japonii."
   ]
  },
  {
   "cell_type": "code",
   "execution_count": 52,
   "id": "878b14b9",
   "metadata": {},
   "outputs": [
    {
     "data": {
      "text/html": [
       "<div>\n",
       "<style scoped>\n",
       "    .dataframe tbody tr th:only-of-type {\n",
       "        vertical-align: middle;\n",
       "    }\n",
       "\n",
       "    .dataframe tbody tr th {\n",
       "        vertical-align: top;\n",
       "    }\n",
       "\n",
       "    .dataframe thead th {\n",
       "        text-align: right;\n",
       "    }\n",
       "</style>\n",
       "<table border=\"1\" class=\"dataframe\">\n",
       "  <thead>\n",
       "    <tr style=\"text-align: right;\">\n",
       "      <th></th>\n",
       "      <th>Typ Gry</th>\n",
       "      <th>Średnia sprzedaż w Japonii</th>\n",
       "    </tr>\n",
       "  </thead>\n",
       "  <tbody>\n",
       "    <tr>\n",
       "      <th>1</th>\n",
       "      <td>Role-Playing</td>\n",
       "      <td>0.238293</td>\n",
       "    </tr>\n",
       "    <tr>\n",
       "      <th>0</th>\n",
       "      <td>Puzzle</td>\n",
       "      <td>0.099439</td>\n",
       "    </tr>\n",
       "    <tr>\n",
       "      <th>2</th>\n",
       "      <td>Strategy</td>\n",
       "      <td>0.073284</td>\n",
       "    </tr>\n",
       "  </tbody>\n",
       "</table>\n",
       "</div>"
      ],
      "text/plain": [
       "        Typ Gry  Średnia sprzedaż w Japonii\n",
       "1  Role-Playing                    0.238293\n",
       "0        Puzzle                    0.099439\n",
       "2      Strategy                    0.073284"
      ]
     },
     "execution_count": 52,
     "metadata": {},
     "output_type": "execute_result"
    }
   ],
   "source": [
    "df_c = df.loc[:, ['EU_Sales', 'JP_Sales', 'Genre']].groupby(\"Genre\").mean()\n",
    "df_c = pd.DataFrame(df_c[df_c.EU_Sales < df_c.JP_Sales].loc[:,\"JP_Sales\"])\\\n",
    ".reset_index().rename({\"Genre\": \"Typ Gry\", \"JP_Sales\": \"Średnia sprzedaż w Japonii\"}, axis = 1)\\\n",
    ".sort_values(\"Średnia sprzedaż w Japonii\", ascending = False)\n",
    "\n",
    "df_c"
   ]
  },
  {
   "cell_type": "markdown",
   "id": "4ff73ce7",
   "metadata": {},
   "source": [
    "## Zadanie 2 (3.5 pkt)\n",
    "\n",
    "Wykorzystując narzędzie do wizualizacji w Pythonie (matplotlib, seaborn) należy poprawić wykres, który był rozwiązaniem pracy domowej 2 (najlepiej poprawić swoją pracę domową, ale można też cudzą).\n",
    "\n",
    "Rozwiązanie powinno zawierać:\n",
    "\n",
    "* oryginalny wykres wraz ze źródłem\n",
    "\n",
    "* wykres w ggplot2 wraz z linkiem do pracy domowej w której się on pojawił (kod nie jest potrzebny)\n",
    "\n",
    "* poprawiony wykres z punktu 2) w Pythonie\n",
    "\n",
    "* uzasadnienie, czemu wykres w Pythonie jest lepszy od dwóch pozostałych."
   ]
  },
  {
   "attachments": {},
   "cell_type": "markdown",
   "id": "ea48f9fc",
   "metadata": {},
   "source": [
    "### Oryginalny wykres\n",
    "\n",
    "![image-2.png](img/Untitled.png)\n",
    "\n",
    "### Źródło\n",
    "\n",
    "https://www.senat.gov.pl/gfx/senat/pl/senatekspertyzy/6053/plik/oe-371.pdf\n",
    "\n",
    "### Wykres ggplot2\n",
    "\n",
    "![image-4.png](img/Untitled2.png)\n",
    "\n",
    "### Link do pd 2 \n",
    "\n",
    "https://github.com/mini-pw/2022Z-DataVisualizationTechniques/tree/main/homeworks/hw2/KiersnowskiGrzegorz\n",
    "\n",
    "\n"
   ]
  },
  {
   "cell_type": "code",
   "execution_count": 117,
   "id": "7d4dbe9c",
   "metadata": {},
   "outputs": [
    {
     "data": {
      "image/png": "[encoded data removed]",
      "text/plain": [
       "<Figure size 432x288 with 1 Axes>"
      ]
     },
     "metadata": {},
     "output_type": "display_data"
    },
    {
     "data": {
      "image/png": "[encoded data removed]",
      "text/plain": [
       "<Figure size 432x288 with 1 Axes>"
      ]
     },
     "metadata": {},
     "output_type": "display_data"
    }
   ],
   "source": [
    "import seaborn as sns\n",
    "import matplotlib.pyplot as plt\n",
    "sns.set_theme()\n",
    "baza = pd.read_csv(\"data/baza.csv\").drop(\"Unnamed: 0\", axis=1)\n",
    "NowyLad = pd.read_csv(\"data/NowyLad.csv\").drop(\"Unnamed: 0\", axis=1)\n",
    "def plot(baza, title):\n",
    "    plt.stackplot(baza[\"Dochod_w_zl\"],\n",
    "                  baza[\"Pierwsze_dziecko\"], \n",
    "                  baza[\"Drugie_dziecko\"], \n",
    "                  baza[\"Trzecie_dziecko\"], \n",
    "                  baza[\"Czwarte_dziecko\"],\n",
    "                  labels = [\"Pierwsze Dziecko\",\n",
    "                           \"Drugie Dziecko\",\n",
    "                           \"Trzecie_dziecko\",\n",
    "                           \"Czwarte_dziecko\"],\n",
    "                 colors = sns.color_palette(\"RdPu\", 4))\n",
    "    plt.ylim(0,6000)\n",
    "\n",
    "    plt.legend(loc = 'upper left')\n",
    "    plt.title(title)\n",
    "    plt.xlabel('Dochód Rodziny')\n",
    "    plt.ylabel('Wsparcie państwa')\n",
    "\n",
    "plot(baza, \"Obecna Sytuacja\")\n",
    "plt.show()\n",
    "plot(NowyLad, \"Nowy Ład\")\n",
    "plt.show()"
   ]
  },
  {
   "cell_type": "markdown",
   "id": "e4b3ef96",
   "metadata": {},
   "source": [
    "## Uzasadnienie\n",
    "Nowe wykresy są lepsze, bo są bardziej estetyczne, oraz dlatego, że robienie ich zajęło mi mniej czasu niż w przypadku pd2 "
   ]
  }
 ],
 "metadata": {
  "kernelspec": {
   "display_name": "Python 3 (ipykernel)",
   "language": "python",
   "name": "python3"
  },
  "language_info": {
   "codemirror_mode": {
    "name": "ipython",
    "version": 3
   },
   "file_extension": ".py",
   "mimetype": "text/x-python",
   "name": "python",
   "nbconvert_exporter": "python",
   "pygments_lexer": "ipython3",
   "version": "3.9.2"
  }
 },
 "nbformat": 4,
 "nbformat_minor": 5
}
