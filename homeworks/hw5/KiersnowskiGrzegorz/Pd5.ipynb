{
 "cells": [
  {
   "cell_type": "markdown",
   "id": "8a0f8492",
   "metadata": {},
   "source": [
    "# Praca Domowa 5 \n",
    "## Grzegorz Kiersnowski"
   ]
  },
  {
   "cell_type": "markdown",
   "id": "aa6440da",
   "metadata": {},
   "source": [
    "### Potrzebne importy i załadowanie danych"
   ]
  },
  {
   "cell_type": "code",
   "execution_count": 1,
   "id": "ba5b5efe",
   "metadata": {},
   "outputs": [],
   "source": [
    "import pandas as pd\n",
    "import plotly.express as px\n",
    "from ipywidgets import widgets\n",
    "import plotly.graph_objects as go\n",
    "df = pd.read_csv(\"complete.csv\")"
   ]
  },
  {
   "cell_type": "markdown",
   "id": "973b533b",
   "metadata": {},
   "source": [
    "### Robię z długiej ramki szeroką ramkę. "
   ]
  },
  {
   "cell_type": "code",
   "execution_count": 2,
   "id": "e7d116b7",
   "metadata": {},
   "outputs": [],
   "source": [
    "df4 =pd.DataFrame({'Category':[],'Birth':[], 'Continent':[]})\n",
    "for row in df.iterrows():\n",
    "    row= row[1]\n",
    "    df4=df4.append({\"Category\":row['category'], \"Birth\":True, \"Continent\":row['birth_continent']},ignore_index=True)\n",
    "    df4=df4.append({\"Category\":row['category'], \"Birth\":False, \"Continent\":row['death_continent']},ignore_index=True)\n",
    "df4.dropna(axis=0, inplace = True)\n"
   ]
  },
  {
   "cell_type": "markdown",
   "id": "d7f9e76e",
   "metadata": {},
   "source": [
    "### Tworzę potrzebne widgety i początkowy wykres"
   ]
  },
  {
   "cell_type": "code",
   "execution_count": 3,
   "id": "b07ad822",
   "metadata": {},
   "outputs": [],
   "source": [
    "Category = widgets.Dropdown(\n",
    "    description = 'Category: ',\n",
    "    options = df.dropna(axis = 0, subset = ['category'])[\"category\"].unique(),\n",
    "    value = 'Chemistry')\n",
    "DeathBirth = widgets.Checkbox(\n",
    "    description = 'Birth continent instead of death',\n",
    "    value = True)\n",
    "\n",
    "trace = go.Histogram(x=df4.loc[(df4['Category'] == \"Chemistry\") & (df4['Birth']==True)][\"Continent\"], name='Continent')\n",
    "\n",
    "g = go.FigureWidget(data=[trace],\n",
    "                    layout=go.Layout(\n",
    "                        title=dict(\n",
    "                            text='Noble price laureates death and birth rates on continents'\n",
    "                        )\n",
    "                        \n",
    "                    ),\n",
    "                    layout_yaxis_range=[0,130]\n",
    "                   )\n"
   ]
  },
  {
   "cell_type": "code",
   "execution_count": 4,
   "id": "ca041d1a",
   "metadata": {},
   "outputs": [],
   "source": [
    "def response(change): # Co ma się dziać gdy zmienimy coś na widgetach\n",
    "    tmpdf = df4.loc[(df4['Category'] == Category.value) & (df4['Birth']==DeathBirth.value)]\n",
    "    g.data[0].x = tmpdf[\"Continent\"] "
   ]
  },
  {
   "cell_type": "markdown",
   "id": "f8ce8930",
   "metadata": {},
   "source": [
    "### Ustawiam obserwowanie widgetów i pokazuję kontener z widgetami i wykresem"
   ]
  },
  {
   "cell_type": "code",
   "execution_count": 6,
   "id": "8cb8a5ba",
   "metadata": {},
   "outputs": [
    {
     "data": {
      "application/vnd.jupyter.widget-view+json": {
       "model_id": "d131387709de48bc8670d05f5ebda778",
       "version_major": 2,
       "version_minor": 0
      },
      "text/plain": [
       "VBox(children=(HBox(children=(Dropdown(description='Category: ', index=2, options=('Economic Sciences', 'Physi…"
      ]
     },
     "metadata": {},
     "output_type": "display_data"
    }
   ],
   "source": [
    "DeathBirth.observe(response, names=\"value\")\n",
    "Category.observe(response, names=\"value\")\n",
    "container = widgets.HBox([Category, DeathBirth])\n",
    "widgets.VBox([container, g])"
   ]
  }
 ],
 "metadata": {
  "kernelspec": {
   "display_name": "Python 3 (ipykernel)",
   "language": "python",
   "name": "python3"
  },
  "language_info": {
   "codemirror_mode": {
    "name": "ipython",
    "version": 3
   },
   "file_extension": ".py",
   "mimetype": "text/x-python",
   "name": "python",
   "nbconvert_exporter": "python",
   "pygments_lexer": "ipython3",
   "version": "3.9.2"
  }
 },
 "nbformat": 4,
 "nbformat_minor": 5
}
